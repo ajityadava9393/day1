{
  "nbformat": 4,
  "nbformat_minor": 0,
  "metadata": {
    "colab": {
      "provenance": [],
      "authorship_tag": "ABX9TyOXBiiIJH8mDwZq3F6A4U2Q",
      "include_colab_link": true
    },
    "kernelspec": {
      "name": "python3",
      "display_name": "Python 3"
    },
    "language_info": {
      "name": "python"
    }
  },
  "cells": [
    {
      "cell_type": "markdown",
      "metadata": {
        "id": "view-in-github",
        "colab_type": "text"
      },
      "source": [
        "<a href=\"https://colab.research.google.com/github/ajityadava9393/day1/blob/main/Assingment_1_Solution.ipynb\" target=\"_parent\"><img src=\"https://colab.research.google.com/assets/colab-badge.svg\" alt=\"Open In Colab\"/></a>"
      ]
    },
    {
      "cell_type": "markdown",
      "source": [
        "1. A student will not be allowed to sit in exam if his/her attendence is less than 75%.\n",
        "Take following input from user\n",
        "Number of classes held\n",
        "Number of classes attended.\n",
        "And print percentage of class\n",
        "attended\n",
        "Is student is allowed to sit in exam or not."
      ],
      "metadata": {
        "id": "XSUkNBAv5MZc"
      }
    },
    {
      "cell_type": "markdown",
      "source": [],
      "metadata": {
        "id": "cR0NY9Yb5CXt"
      }
    },
    {
      "cell_type": "code",
      "source": [
        "n=int(input(\" Give No of classes Held\"))\n",
        "pre=int(input(\"Give no of classes attended\"))\n",
        "percentage=(pre/n)*100\n",
        "if (percentage>=75):\n",
        "  print(\" attendence is \",percentage,\"%\",\"allowed in exam\")\n",
        "else:\n",
        "  print(\" attendence is \",percentage,\"%\",\"Not allowed in exam\")\n"
      ],
      "metadata": {
        "colab": {
          "base_uri": "https://localhost:8080/"
        },
        "id": "1yE81jTG5PnM",
        "outputId": "6b6adbe5-df53-4a4a-ff80-f63754b8bc38"
      },
      "execution_count": 7,
      "outputs": [
        {
          "output_type": "stream",
          "name": "stdout",
          "text": [
            " Give No of classes Held100\n",
            "Give no of classes attended78\n",
            " attendence is  78.0 % allowed in exam\n"
          ]
        }
      ]
    },
    {
      "cell_type": "markdown",
      "source": [
        "1.accept amount from user and find the minimum number notes required to get the\n",
        "amount amount =512\n",
        "Notes: 2000,500,100,50,10,5,2,1\n",
        "500-1 note\n",
        "10 - 1 note\n",
        "2- 1 coin\n",
        "amount=20550\n",
        "2000 – 10 note\n",
        "500 – 1 note\n",
        "50 -1 note"
      ],
      "metadata": {
        "id": "Zt3fNaX375tz"
      }
    },
    {
      "cell_type": "code",
      "source": [
        "from traitlets.config.loader import ArgumentParser\n",
        "amt=int(input(\"Enter the amount\"))\n",
        "note=[2000,500,100,50,10,5,2,1]\n",
        "damt=amt\n",
        "n=0\n",
        "c=0\n",
        "\n",
        "if amt>0:\n",
        "  for i in note:\n",
        "    count=damt//i\n",
        "    damt=damt%i\n",
        "    if(count>0):\n",
        "      if i>=10:\n",
        "        n=n+1\n",
        "        print(i,\"-\",count,\"Note\")\n",
        "      else:\n",
        "        c=c+1\n",
        "        print(i,\"-\",count,\"Coin\")\n",
        "\n",
        "else:\n",
        "  print(\"Invalid Amount\")\n",
        "print(\"Total number of Notes \",n,\"and coins \",c,\"for this \",amt)\n",
        "\n",
        "\n"
      ],
      "metadata": {
        "colab": {
          "base_uri": "https://localhost:8080/"
        },
        "id": "wttbpvfy8eUQ",
        "outputId": "ec29e9c1-0607-4949-b923-4898be606f57"
      },
      "execution_count": 66,
      "outputs": [
        {
          "output_type": "stream",
          "name": "stdout",
          "text": [
            "Enter the amount501\n",
            "500 - 1 Note\n",
            "1 - 1 Coin\n",
            "Total number of Notes  1 and coins  1 for this  501\n"
          ]
        }
      ]
    },
    {
      "cell_type": "markdown",
      "source": [
        "3. Modify the above first question to allow student to sit if he/she has medical cause. Ask\n",
        "user if he/she has medical cause or not ( 'Y' or 'N' ) and print accordingly.[link text](https://)"
      ],
      "metadata": {
        "id": "p7X8JS9wHz2n"
      }
    },
    {
      "cell_type": "code",
      "source": [
        "n=int(input(\" Give No of classes Held\"))\n",
        "pre=int(input(\"Give no of classes attended\"))\n",
        "percentage=(pre/n)*100\n",
        "if (percentage>=75):\n",
        "  print(\" attendence is \",percentage,\"%\",\"allowed in exam\")\n",
        "else:\n",
        "  ans=input(\"Do you have any medical cause ? ['Y' or 'N']\")\n",
        "  if ans==\"Y\":\n",
        "    print(\" attendence is \",percentage,\"%\",\" but having medical cause so allowed in exam\")\n",
        "  else:\n",
        "      print(\" attendence is \",percentage,\"%\",\" no medical cause Not allowed in exam\")"
      ],
      "metadata": {
        "colab": {
          "base_uri": "https://localhost:8080/"
        },
        "id": "zBZmeYAGH3d-",
        "outputId": "7846e57a-77c6-4030-db4f-246b21a3ae76"
      },
      "execution_count": 15,
      "outputs": [
        {
          "output_type": "stream",
          "name": "stdout",
          "text": [
            " Give No of classes Held100\n",
            "Give no of classes attended55\n",
            "Do you have any medical cause ? ['Y' or 'N']N\n",
            " attendence is  55.00000000000001 %  no medical cause Not allowed in exam\n"
          ]
        }
      ]
    },
    {
      "cell_type": "markdown",
      "source": [
        "4.\n",
        "A school has following rules for grading system:\n",
        "a. Below 25 - F\n",
        "b. 25 to 45 - E\n",
        "c. 45 to 50 - D\n",
        "d. 50 to 60 - C\n",
        "e. 60 to 80 - B\n",
        "f. Above 80 - A\n",
        "Ask user to enter marks and print the corresponding grade."
      ],
      "metadata": {
        "id": "bJCILu4TH6q0"
      }
    },
    {
      "cell_type": "code",
      "source": [
        "marks=int(input(\"Give your marks\"))\n",
        "if (marks>80 and marks<=100):\n",
        "  print(\"Grade: A\")\n",
        "elif (marks>60 and marks <=80):\n",
        "  print(\"Grade: B\")\n",
        "elif (marks>50 and marks <=60):\n",
        "  print(\"Grade: C\")\n",
        "elif (marks>45 and marks <=50):\n",
        "  print(\"Grade: D\")\n",
        "elif (marks>25 and marks <=45):\n",
        "  print(\"Grade: E\")\n",
        "elif (marks>=0 and marks <=25):\n",
        "  print(\"Grade: F\")\n",
        "else:\n",
        "  print(\"Invalid marks\")\n",
        "\n",
        "\n"
      ],
      "metadata": {
        "colab": {
          "base_uri": "https://localhost:8080/"
        },
        "id": "-DcKZ339IAME",
        "outputId": "0322d65c-5f22-4d08-9df8-b8a3265499ca"
      },
      "execution_count": 18,
      "outputs": [
        {
          "output_type": "stream",
          "name": "stdout",
          "text": [
            "Give your marks55\n",
            "Grade: C\n"
          ]
        }
      ]
    },
    {
      "cell_type": "markdown",
      "source": [
        "5. Print the output of following statements\n",
        "If\n",
        "x = 2\n",
        "y = 5\n",
        "z = 0\n",
        "then find values of the following expressions:\n",
        "\n",
        "a. x == 2\n",
        "b. x != 5\n",
        "c. x != 5 & y >= 5\n",
        "d. z != 0 | x == 2\n",
        "e. not(y < 10)"
      ],
      "metadata": {
        "id": "VLlBs8fgLvZJ"
      }
    },
    {
      "cell_type": "code",
      "source": [
        "x=2\n",
        "y=5\n",
        "z=0\n",
        "print(x==2)\n",
        "print(x!=5)\n",
        "print(x!=5 and y>=5)\n",
        "print(z!=0 or x==2)\n",
        "print(not(y<10))"
      ],
      "metadata": {
        "colab": {
          "base_uri": "https://localhost:8080/"
        },
        "id": "9zUPujafL3JK",
        "outputId": "b5a760da-0d47-446d-ce4d-df4033f85909"
      },
      "execution_count": 19,
      "outputs": [
        {
          "output_type": "stream",
          "name": "stdout",
          "text": [
            "True\n",
            "True\n",
            "True\n",
            "True\n",
            "False\n"
          ]
        }
      ]
    },
    {
      "cell_type": "markdown",
      "source": [
        "6. Accept number from user and check whether it is divisible by 5 and 11 if divisible then\n",
        "display appropriate message."
      ],
      "metadata": {
        "id": "GrM9BSW8M6H9"
      }
    },
    {
      "cell_type": "code",
      "source": [
        "num=int(input(\"Give any number to check whether it is divisible by 5 and 11 or not\"))\n",
        "if (num%5==0 and num%11==0):\n",
        "  print(\"Number is divisible by 5 and 11\")\n",
        "else:\n",
        "  print(\"Number is not divisible by 5 and 11\")"
      ],
      "metadata": {
        "colab": {
          "base_uri": "https://localhost:8080/"
        },
        "id": "AYZ7skXVM8pU",
        "outputId": "5a3805d8-4b01-44c0-ef09-94e5ed78360c"
      },
      "execution_count": 21,
      "outputs": [
        {
          "output_type": "stream",
          "name": "stdout",
          "text": [
            "Give any number to check whether it is divisible by 5 and 11 or not44\n",
            "Number is not divisible by 5 and 11\n"
          ]
        }
      ]
    },
    {
      "cell_type": "markdown",
      "source": [
        "7. Write a program to calculate the electricity bill (accept number of unit from user) according\n",
        "to the following criteria :\n",
        "Unit Price\n",
        "First 100 units no charge\n",
        "Next 100 units Rs 5 per unit\n",
        "After 200 units Rs 10 per unit\n",
        "(For example if input unit is 350 than total bill amount is Rs2000)"
      ],
      "metadata": {
        "id": "ztBN2f94M9I8"
      }
    },
    {
      "cell_type": "code",
      "source": [
        "unit=int(input(\"Give unit to cal total ebill\"))\n",
        "if(unit<=100):\n",
        "  print(\"No charge\")\n",
        "elif(unit<=200 and unit>100):\n",
        "  bill=(unit-100)*5\n",
        "  print(\"Total bill: \",bill)\n",
        "else:\n",
        "  bill=(unit-200)*10+100*5\n",
        "  print(\"Total bill: \",bill)\n"
      ],
      "metadata": {
        "colab": {
          "base_uri": "https://localhost:8080/"
        },
        "id": "76R0INitM_Vr",
        "outputId": "7ee5cbfb-e93e-4246-cc17-da48274839ce"
      },
      "execution_count": 24,
      "outputs": [
        {
          "output_type": "stream",
          "name": "stdout",
          "text": [
            "Give unit to cal total ebill350\n",
            "Total bill:  2000\n"
          ]
        }
      ]
    },
    {
      "cell_type": "markdown",
      "source": [
        "8. Write a program to check whether the last digit of a number( entered by user ) is divisible by\n",
        "3 or not."
      ],
      "metadata": {
        "id": "qDyzvAY3NASM"
      }
    },
    {
      "cell_type": "code",
      "source": [
        "num=int(input(\"Give any number\"))\n",
        "digit=num%10\n",
        "if(digit%3==0):\n",
        "  print(\"Last digit is divisible by 3\")\n",
        "else:\n",
        "  print(\"Last digit is not divisible by 3\")"
      ],
      "metadata": {
        "colab": {
          "base_uri": "https://localhost:8080/"
        },
        "id": "SYBXHiBSNDnE",
        "outputId": "3ad1a588-70bb-43b5-ff05-5ed035543173"
      },
      "execution_count": 28,
      "outputs": [
        {
          "output_type": "stream",
          "name": "stdout",
          "text": [
            "Give any number57\n",
            "Last digit is not divisible by 3\n"
          ]
        }
      ]
    },
    {
      "cell_type": "markdown",
      "source": [
        "9. Write a program to check whether an years is leap year or not the year is leap if it satisfies\n",
        "following condition\n",
        "---It the year is divisible by 100 o If it is divisible by 100, then it should also be\n",
        "divisible by 400 then it is leap year\n",
        "--- otherwise, all other years divisible by 4 and not divisible by 100 then it is leap\n",
        "year."
      ],
      "metadata": {
        "id": "SmezUTTXNGs7"
      }
    },
    {
      "cell_type": "code",
      "source": [
        "year=int(input(\"Give year to check whether it is leap year or not\"))\n",
        "if(year%400==0 and year%100==0):\n",
        "  print(\"Leap Year\")\n",
        "else:\n",
        "  if (year%4==0 and year%100!=0):\n",
        "    print(\"Leap Year\")\n",
        "  else:\n",
        "      print(\"Not a Leap Year\")"
      ],
      "metadata": {
        "colab": {
          "base_uri": "https://localhost:8080/"
        },
        "id": "bY6MY9OPNHY8",
        "outputId": "b1f5162b-0774-4ada-c0d1-72a509a33e3a"
      },
      "execution_count": 38,
      "outputs": [
        {
          "output_type": "stream",
          "name": "stdout",
          "text": [
            "Give year to check whether it is leap year or not400\n",
            "Leap Year\n"
          ]
        }
      ]
    },
    {
      "cell_type": "markdown",
      "source": [
        "10. Write a program to accept the price of a bike and display the road tax and\n",
        "insurance to be paid according to the following criteria . also display total amount to\n",
        "be paid.\n",
        "\n",
        "Cost price (in Rs) Tax Inssurance\n",
        "> 100000 15 % 20%\n",
        "> 50000 and <= 100000 10% 8%\n",
        "<= 50000 5% 5%"
      ],
      "metadata": {
        "id": "fa9JYd1IS4n6"
      }
    },
    {
      "cell_type": "code",
      "source": [
        "price=int(input(\"Enter the price of a bike\"))\n",
        "if (price > 100000):\n",
        "  tax=0.15*price\n",
        "  insurance=0.2*price\n",
        "  total=price+tax+insurance\n",
        "  print(\"Total price of bike\",total)\n",
        "elif (price > 50000 and price<=100000):\n",
        "  tax=0.10*price\n",
        "  insurance=0.08*price\n",
        "  total=price+tax+insurance\n",
        "  print(\"Total price of bike\",total)\n",
        "elif (price>=0 and price <=50000):\n",
        "  tax=0.05*price\n",
        "  insurance=0.05*price\n",
        "  total=price+tax+insurance\n",
        "  print(\"Total price of bike\",total)\n",
        "else :\n",
        "  print(\"Invalid price\")\n"
      ],
      "metadata": {
        "colab": {
          "base_uri": "https://localhost:8080/"
        },
        "id": "qD6tQeBoS5h5",
        "outputId": "fc7b9e54-853d-4843-cd56-5daaccee46b9"
      },
      "execution_count": 43,
      "outputs": [
        {
          "output_type": "stream",
          "name": "stdout",
          "text": [
            "Enter the price of a bike-10000\n",
            "Invalid price\n"
          ]
        }
      ]
    }
  ]
}